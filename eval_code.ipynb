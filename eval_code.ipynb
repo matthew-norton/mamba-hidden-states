{
 "cells": [
  {
   "cell_type": "code",
   "execution_count": null,
   "id": "30ccea0d-fa06-40b4-8f07-2042693a8e04",
   "metadata": {},
   "outputs": [],
   "source": [
    "accelerate launch  main.py \\\n",
    "  --model \"microsoft/phi-2\" \\\n",
    "  --max_length_generation 528 \\\n",
    "  --save_generations \\\n",
    "  --tasks humaneval \\\n",
    "  --n_samples 1 \\\n",
    "  --batch_size 1 \\\n",
    "  --allow_code_execution \\\n",
    "  --trust_remote_code \\\n",
    "  --limit 10"
   ]
  },
  {
   "cell_type": "code",
   "execution_count": null,
   "id": "c0ad9502",
   "metadata": {},
   "outputs": [],
   "source": [
    "accelerate launch  main.py \\\n",
    "  --model \"microsoft/phi-2\" \\\n",
    "  --max_length_generation 528 \\\n",
    "  --save_generations \\\n",
    "  --tasks humaneval \\\n",
    "  --n_samples 1 \\\n",
    "  --batch_size 1 \\\n",
    "  --allow_code_execution \\\n",
    "  --trust_remote_code \\\n",
    "  --limit 10"
   ]
  }
 ],
 "metadata": {
  "kernelspec": {
   "display_name": "Python 3 (ipykernel)",
   "language": "python",
   "name": "python3"
  },
  "language_info": {
   "codemirror_mode": {
    "name": "ipython",
    "version": 3
   },
   "file_extension": ".py",
   "mimetype": "text/x-python",
   "name": "python",
   "nbconvert_exporter": "python",
   "pygments_lexer": "ipython3",
   "version": "3.10.12"
  }
 },
 "nbformat": 4,
 "nbformat_minor": 5
}
