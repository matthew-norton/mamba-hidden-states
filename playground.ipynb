{
 "cells": [
  {
   "cell_type": "code",
   "execution_count": null,
   "metadata": {},
   "outputs": [],
   "source": [
    "python -m venv mamba_env\n",
    "pip install ."
   ]
  },
  {
   "cell_type": "code",
   "execution_count": 6,
   "metadata": {},
   "outputs": [],
   "source": [
    "import torch\n",
    "from transformers import AutoTokenizer\n",
    "from mamba_ssm.models.mixer_seq_simple import MambaLMHeadModel\n",
    "import sys\n",
    "\n",
    "\n",
    "# Take in the model you want to train\n",
    "model_name = \"state-spaces/mamba-130m\"\n",
    "\n",
    "# Choose a tokenizer\n",
    "tokenizer = AutoTokenizer.from_pretrained(\"EleutherAI/gpt-neox-20b\")\n",
    "tokenizer.eos_token = \"<|endoftext|>\"\n",
    "tokenizer.pad_token = tokenizer.eos_token"
   ]
  },
  {
   "cell_type": "code",
   "execution_count": null,
   "metadata": {},
   "outputs": [],
   "source": [
    "model = MambaLMHeadModel.from_pretrained(\n",
    "    model_name, \n",
    "    device=\"cuda\", \n",
    "    dtype=torch.float16)"
   ]
  },
  {
   "cell_type": "code",
   "execution_count": null,
   "metadata": {},
   "outputs": [],
   "source": [
    "# Take the user input from the command line\n",
    "user_message = \"who is the prez?\"#input(\"\\n> \")\n",
    "\n",
    "# Create a prompt\n",
    "n_shot_prompting = [\n",
    "    {\n",
    "        \"question\": \"What is the capital of France?\",\n",
    "        \"answer\": \"Paris\"\n",
    "    },\n",
    "    {\n",
    "        \"question\": \"Who invented the segway?\",\n",
    "        \"answer\": \"Dean Kamen\"\n",
    "    },\n",
    "    {\n",
    "        \"question\": \"What is the fastest animal?\",\n",
    "        \"answer\": \"Cheetah\"\n",
    "    }\n",
    "]\n",
    "\n",
    "prompt = f\"You are a Trivia QA bot.\\nAnswer the following question succinctly and accurately.\"\n",
    "prompt = f\"{prompt}\\n\\n\" + \"\\n\\n\".join([f\"Q: {p['question']}\\nA: {p['answer']}\" for p in n_shot_prompting])\n",
    "prompt = f\"{prompt}\\n\\nQ: {user_message}\"\n",
    "\n",
    "# Debug print to make sure our prompt looks good\n",
    "print(prompt)\n",
    "\n",
    "# Encode the text to token IDs\n",
    "input_ids = torch.LongTensor([tokenizer.encode(prompt)]).cuda()\n",
    "\n",
    "print(prompt)\n",
    "\n",
    "# Encode the prompt into integers and convert to a tensor on the GPU\n",
    "input_ids = torch.LongTensor([tokenizer.encode(prompt)]).cuda()\n",
    "print(input_ids)"
   ]
  },
  {
   "cell_type": "code",
   "execution_count": null,
   "metadata": {},
   "outputs": [],
   "source": [
    "# Generate an output sequence of tokens given the input\n",
    "# \"out\" will contain the raw token ids as integers\n",
    "out = model.generate(\n",
    "    input_ids=input_ids,\n",
    "    max_length=256,\n",
    "    eos_token_id=tokenizer.eos_token_id\n",
    ")"
   ]
  },
  {
   "cell_type": "code",
   "execution_count": null,
   "metadata": {},
   "outputs": [],
   "source": [
    "out = model(\n",
    "    input_ids=input_ids,\n",
    "    output_hidden_states=True\n",
    ")"
   ]
  },
  {
   "cell_type": "code",
   "execution_count": null,
   "metadata": {},
   "outputs": [],
   "source": [
    "# you must use the tokenizer to decode them back into strings\n",
    "decoded = tokenizer.batch_decode(out)[0]\n",
    "print(\"=\"*80)\n",
    "print(decoded)\n",
    "# out returns the whole sequence plus the original\n",
    "cleaned = decoded.replace(prompt, \"\")\n",
    "\n",
    "# the model will just keep generating, so only grab the first one\n",
    "# cleaned = cleaned.split(\"\\n\\n\")[0]\n",
    "print(cleaned)"
   ]
  },
  {
   "cell_type": "code",
   "execution_count": 13,
   "metadata": {},
   "outputs": [
    {
     "name": "stderr",
     "output_type": "stream",
     "text": [
      "Downloading readme: 100%|██████████| 7.83k/7.83k [00:00<00:00, 13.3MB/s]\n",
      "Downloading data: 100%|██████████| 14.5M/14.5M [00:00<00:00, 19.2MB/s]\n",
      "Downloading data: 100%|██████████| 1.82M/1.82M [00:00<00:00, 11.4MB/s]\n",
      "Generating train split: 100%|██████████| 87599/87599 [00:00<00:00, 1251147.01 examples/s]\n",
      "Generating validation split: 100%|██████████| 10570/10570 [00:00<00:00, 1143183.34 examples/s]\n"
     ]
    }
   ],
   "source": [
    "from datasets import load_dataset\n",
    "\n",
    "dataset = load_dataset(\"squad\")"
   ]
  },
  {
   "cell_type": "code",
   "execution_count": 18,
   "metadata": {},
   "outputs": [
    {
     "data": {
      "text/plain": [
       "{'id': '5733be284776f41900661182',\n",
       " 'title': 'University_of_Notre_Dame',\n",
       " 'context': 'Architecturally, the school has a Catholic character. Atop the Main Building\\'s gold dome is a golden statue of the Virgin Mary. Immediately in front of the Main Building and facing it, is a copper statue of Christ with arms upraised with the legend \"Venite Ad Me Omnes\". Next to the Main Building is the Basilica of the Sacred Heart. Immediately behind the basilica is the Grotto, a Marian place of prayer and reflection. It is a replica of the grotto at Lourdes, France where the Virgin Mary reputedly appeared to Saint Bernadette Soubirous in 1858. At the end of the main drive (and in a direct line that connects through 3 statues and the Gold Dome), is a simple, modern stone statue of Mary.',\n",
       " 'question': 'To whom did the Virgin Mary allegedly appear in 1858 in Lourdes France?',\n",
       " 'answers': {'text': ['Saint Bernadette Soubirous'], 'answer_start': [515]}}"
      ]
     },
     "execution_count": 18,
     "metadata": {},
     "output_type": "execute_result"
    }
   ],
   "source": [
    "dataset['train'][0]"
   ]
  },
  {
   "cell_type": "code",
   "execution_count": null,
   "metadata": {},
   "outputs": [],
   "source": []
  }
 ],
 "metadata": {
  "kernelspec": {
   "display_name": ".venv",
   "language": "python",
   "name": "python3"
  },
  "language_info": {
   "codemirror_mode": {
    "name": "ipython",
    "version": 3
   },
   "file_extension": ".py",
   "mimetype": "text/x-python",
   "name": "python",
   "nbconvert_exporter": "python",
   "pygments_lexer": "ipython3",
   "version": "3.10.5"
  },
  "orig_nbformat": 4
 },
 "nbformat": 4,
 "nbformat_minor": 2
}
